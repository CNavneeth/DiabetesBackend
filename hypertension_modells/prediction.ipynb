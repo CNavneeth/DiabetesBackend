{
 "cells": [
  {
   "cell_type": "code",
   "execution_count": 1,
   "id": "b56d8dd0",
   "metadata": {},
   "outputs": [
    {
     "name": "stdout",
     "output_type": "stream",
     "text": [
      "Predicted Risk: 1\n",
      "Prediction Probability [No Risk, High Risk]: [0.14936581 0.85063419]\n"
     ]
    },
    {
     "name": "stderr",
     "output_type": "stream",
     "text": [
      "n:\\Major Project Files\\Final-Year-Project\\Diabetes-Prediction\\.venv\\Lib\\site-packages\\sklearn\\utils\\validation.py:2739: UserWarning: X does not have valid feature names, but StandardScaler was fitted with feature names\n",
      "  warnings.warn(\n"
     ]
    }
   ],
   "source": [
    "import pickle\n",
    "import numpy as np\n",
    "\n",
    "# Load the saved model and scaler\n",
    "with open('hypertension_model.pkl', 'rb') as f:\n",
    "    model = pickle.load(f)\n",
    "\n",
    "with open('scaler.pkl', 'rb') as f:\n",
    "    scaler = pickle.load(f)\n",
    "\n",
    "# Example new data (replace these values with real input)\n",
    "# Order of features:\n",
    "# ['male', 'age', 'currentSmoker', 'cigsPerDay', 'BPMeds', 'diabetes', 'totChol', 'sysBP', 'diaBP', 'BMI', 'heartRate', 'glucose']\n",
    "sample_data = np.array([[1, 55, 0, 0, 0, 1, 200, 150, 90, 28, 80, 120]])\n",
    "\n",
    "# Scale the input data using the same scaler\n",
    "sample_data_scaled = scaler.transform(sample_data)\n",
    "\n",
    "# Predict\n",
    "prediction = model.predict(sample_data_scaled)\n",
    "prediction_proba = model.predict_proba(sample_data_scaled)\n",
    "\n",
    "# Output result\n",
    "print(\"Predicted Risk:\", prediction[0])\n",
    "print(\"Prediction Probability [No Risk, High Risk]:\", prediction_proba[0])\n"
   ]
  },
  {
   "cell_type": "code",
   "execution_count": null,
   "id": "2e79b693",
   "metadata": {},
   "outputs": [],
   "source": []
  }
 ],
 "metadata": {
  "kernelspec": {
   "display_name": ".venv",
   "language": "python",
   "name": "python3"
  },
  "language_info": {
   "codemirror_mode": {
    "name": "ipython",
    "version": 3
   },
   "file_extension": ".py",
   "mimetype": "text/x-python",
   "name": "python",
   "nbconvert_exporter": "python",
   "pygments_lexer": "ipython3",
   "version": "3.13.1"
  }
 },
 "nbformat": 4,
 "nbformat_minor": 5
}
