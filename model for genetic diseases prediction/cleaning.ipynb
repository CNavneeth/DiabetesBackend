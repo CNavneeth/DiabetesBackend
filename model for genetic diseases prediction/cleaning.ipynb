{
 "cells": [
  {
   "cell_type": "code",
   "execution_count": 2,
   "metadata": {},
   "outputs": [
    {
     "name": "stdout",
     "output_type": "stream",
     "text": [
      "✅ Cleaned test dataset saved as cleaned_test_data.csv\n"
     ]
    }
   ],
   "source": [
    "import pandas as pd\n",
    "from sklearn.preprocessing import LabelEncoder\n",
    "import joblib\n",
    "\n",
    "# Load raw test data\n",
    "test_df = pd.read_csv(\"test.csv\")\n",
    "\n",
    "# Drop irrelevant columns (same as training)\n",
    "columns_to_drop = [\n",
    "    'Patient Id', 'Patient First Name', 'Family Name', 'Father\\'s name',\n",
    "    'Institute Name', 'Location of Institute', 'Disorder Subclass'\n",
    "]\n",
    "\n",
    "test_df = test_df.drop(columns=columns_to_drop, errors='ignore')  # 👈 avoid KeyError\n",
    "\n",
    "\n",
    "# Fill missing numerical values with median\n",
    "num_cols = test_df.select_dtypes(include=['float64', 'int']).columns\n",
    "test_df[num_cols] = test_df[num_cols].fillna(test_df[num_cols].median())\n",
    "\n",
    "# Fill missing categorical values with mode\n",
    "cat_cols = test_df.select_dtypes(include=['object']).columns\n",
    "test_df[cat_cols] = test_df[cat_cols].fillna(test_df[cat_cols].mode().iloc[0])\n",
    "\n",
    "# Label encoding for categorical columns\n",
    "# Use the same encoding as training (use joblib if saved, or retrain below)\n",
    "label_encoders = {}\n",
    "\n",
    "# If you saved label encoders during training, load them here\n",
    "# label_encoders = joblib.load(\"label_encoders.pkl\")\n",
    "\n",
    "# If not saved, create fresh encoders (MUST be identical to training for consistency)\n",
    "for col in cat_cols:\n",
    "    le = LabelEncoder()\n",
    "    test_df[col] = le.fit_transform(test_df[col])  # Note: This may mismatch if training labels were different\n",
    "    label_encoders[col] = le\n",
    "\n",
    "# Save the cleaned test dataset\n",
    "test_df.to_csv(\"cleaned_test_data.csv\", index=False)\n",
    "print(\"✅ Cleaned test dataset saved as cleaned_test_data.csv\")\n"
   ]
  },
  {
   "cell_type": "code",
   "execution_count": null,
   "metadata": {},
   "outputs": [],
   "source": []
  }
 ],
 "metadata": {
  "kernelspec": {
   "display_name": ".venv",
   "language": "python",
   "name": "python3"
  },
  "language_info": {
   "codemirror_mode": {
    "name": "ipython",
    "version": 3
   },
   "file_extension": ".py",
   "mimetype": "text/x-python",
   "name": "python",
   "nbconvert_exporter": "python",
   "pygments_lexer": "ipython3",
   "version": "3.13.1"
  }
 },
 "nbformat": 4,
 "nbformat_minor": 2
}
