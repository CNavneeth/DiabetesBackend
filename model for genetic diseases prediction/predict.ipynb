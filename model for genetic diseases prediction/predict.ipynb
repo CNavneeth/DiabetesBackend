{
 "cells": [
  {
   "cell_type": "code",
   "execution_count": 10,
   "metadata": {},
   "outputs": [
    {
     "name": "stdout",
     "output_type": "stream",
     "text": [
      "🧬 Predicted Genetic Disorder: Other\n"
     ]
    }
   ],
   "source": [
    "import pandas as pd\n",
    "import joblib\n",
    "\n",
    "# Load the trained model\n",
    "model = joblib.load(\"genetic_disease_rf_model.pkl\")\n",
    "\n",
    "# Load the cleaned training data to match structure\n",
    "reference_df = pd.read_csv(\"cleaned_train_data.csv\")\n",
    "expected_columns = reference_df.drop(columns=['Genetic Disorder']).columns\n",
    "\n",
    "# Label mapping\n",
    "disorder_labels = {\n",
    "    0: \"Mitochondrial genetic inheritance disorders\",\n",
    "    1: \"Multifactorial genetic inheritance disorders\",\n",
    "    2: \"Other\"\n",
    "}\n",
    "\n",
    "# Provide only essential input\n",
    "essential_input = {\n",
    "    'Age': 25,\n",
    "    'Gender': 1,\n",
    "    'Blood Cell Count (mcL)': 5.1,\n",
    "    'White Blood Cell Count (WBC)': 7500,\n",
    "    'Parental Consent': 1,\n",
    "    'History of Genetic Disorder': 0,\n",
    "    'Congenital anomalies': 1\n",
    "}\n",
    "\n",
    "# Create a DataFrame with default 0s for all expected columns\n",
    "manual_df = pd.DataFrame([{col: 0 for col in expected_columns}])\n",
    "\n",
    "# Update with the essential inputs\n",
    "for key, value in essential_input.items():\n",
    "    if key in manual_df.columns:\n",
    "        manual_df.at[0, key] = value\n",
    "\n",
    "# Predict\n",
    "prediction = model.predict(manual_df)[0]\n",
    "\n",
    "# Show labeled result\n",
    "print(\"🧬 Predicted Genetic Disorder:\", disorder_labels[prediction])\n"
   ]
  },
  {
   "cell_type": "code",
   "execution_count": null,
   "metadata": {},
   "outputs": [],
   "source": [
    "import joblib\n",
    "\n",
    "# Load the label encoder (assuming you saved it during training)\n",
    "label_encoder = joblib.load(\"label_encoder.pkl\")\n",
    "\n",
    "# Decode the prediction\n",
    "decoded_prediction = label_encoder.inverse_transform([prediction])[0]\n",
    "\n",
    "print(\"🧬 Predicted Genetic Disorder:\", decoded_prediction)\n"
   ]
  }
 ],
 "metadata": {
  "kernelspec": {
   "display_name": ".venv",
   "language": "python",
   "name": "python3"
  },
  "language_info": {
   "codemirror_mode": {
    "name": "ipython",
    "version": 3
   },
   "file_extension": ".py",
   "mimetype": "text/x-python",
   "name": "python",
   "nbconvert_exporter": "python",
   "pygments_lexer": "ipython3",
   "version": "3.13.1"
  }
 },
 "nbformat": 4,
 "nbformat_minor": 2
}
