{
 "cells": [
  {
   "cell_type": "code",
   "execution_count": 1,
   "metadata": {},
   "outputs": [],
   "source": [
    "import pandas as pd\n",
    "from sklearn.model_selection import train_test_split\n",
    "from sklearn.ensemble import RandomForestClassifier\n",
    "from sklearn.metrics import classification_report, accuracy_score\n",
    "from sklearn.preprocessing import LabelEncoder\n",
    "import joblib"
   ]
  },
  {
   "cell_type": "code",
   "execution_count": 2,
   "metadata": {},
   "outputs": [],
   "source": [
    "df = pd.read_csv(\"cleaned_genetic_disorder_data.csv\")\n"
   ]
  },
  {
   "cell_type": "code",
   "execution_count": 3,
   "metadata": {},
   "outputs": [
    {
     "name": "stdout",
     "output_type": "stream",
     "text": [
      "✅ Model Accuracy: 0.57\n",
      "\n",
      "📊 Classification Report:\n",
      "               precision    recall  f1-score   support\n",
      "\n",
      "           0       0.60      0.85      0.70      2048\n",
      "           1       0.42      0.21      0.28       409\n",
      "           2       0.54      0.31      0.40      1531\n",
      "\n",
      "    accuracy                           0.57      3988\n",
      "   macro avg       0.52      0.45      0.46      3988\n",
      "weighted avg       0.56      0.57      0.54      3988\n",
      "\n"
     ]
    }
   ],
   "source": [
    "# Split into features and target\n",
    "X = df.drop(columns=[\"Genetic Disorder\"])\n",
    "y = df[\"Genetic Disorder\"]\n",
    "\n",
    "# Train/test split\n",
    "X_train, X_val, y_train, y_val = train_test_split(X, y, test_size=0.2, random_state=42)\n",
    "\n",
    "# Train Random Forest model\n",
    "model = RandomForestClassifier(n_estimators=100, random_state=42)\n",
    "model.fit(X_train, y_train)\n",
    "\n",
    "# Evaluate on validation data\n",
    "y_pred = model.predict(X_val)\n",
    "accuracy = accuracy_score(y_val, y_pred)\n",
    "report = classification_report(y_val, y_pred)\n",
    "\n",
    "print(f\"✅ Model Accuracy: {accuracy:.2f}\")\n",
    "print(\"\\n📊 Classification Report:\\n\", report)\n",
    "\n"
   ]
  },
  {
   "cell_type": "code",
   "execution_count": 4,
   "metadata": {},
   "outputs": [
    {
     "name": "stdout",
     "output_type": "stream",
     "text": [
      "\n",
      "💾 Model saved as genetic_disease_rf_model.pkl\n"
     ]
    }
   ],
   "source": [
    "# Save the trained model\n",
    "joblib.dump(model, \"genetic_disease_rf_model.pkl\")\n",
    "print(\"\\n💾 Model saved as genetic_disease_rf_model.pkl\")"
   ]
  },
  {
   "cell_type": "code",
   "execution_count": 6,
   "metadata": {},
   "outputs": [
    {
     "name": "stdout",
     "output_type": "stream",
     "text": [
      "Genetic Disorder\n",
      "0    10202\n",
      "2     7664\n",
      "1     2071\n",
      "Name: count, dtype: int64\n",
      "\n",
      "Unique labels: [0 1 2]\n"
     ]
    }
   ],
   "source": [
    "import pandas as pd\n",
    "\n",
    "# Load your cleaned training dataset\n",
    "df = pd.read_csv(\"cleaned_train_data.csv\")\n",
    "\n",
    "# Display unique labels in the target column\n",
    "print(df[\"Genetic Disorder\"].value_counts())\n",
    "print(\"\\nUnique labels:\", df[\"Genetic Disorder\"].unique())\n"
   ]
  },
  {
   "cell_type": "code",
   "execution_count": null,
   "metadata": {},
   "outputs": [],
   "source": []
  }
 ],
 "metadata": {
  "kernelspec": {
   "display_name": ".venv",
   "language": "python",
   "name": "python3"
  },
  "language_info": {
   "codemirror_mode": {
    "name": "ipython",
    "version": 3
   },
   "file_extension": ".py",
   "mimetype": "text/x-python",
   "name": "python",
   "nbconvert_exporter": "python",
   "pygments_lexer": "ipython3",
   "version": "3.13.1"
  }
 },
 "nbformat": 4,
 "nbformat_minor": 2
}
