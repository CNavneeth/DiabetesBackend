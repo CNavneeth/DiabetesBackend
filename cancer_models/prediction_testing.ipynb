{
 "cells": [
  {
   "cell_type": "code",
   "execution_count": 1,
   "id": "c51a28d9",
   "metadata": {},
   "outputs": [
    {
     "name": "stdout",
     "output_type": "stream",
     "text": [
      "Cancer Diagnosis Prediction: Positive\n"
     ]
    },
    {
     "name": "stderr",
     "output_type": "stream",
     "text": [
      "n:\\Major Project Files\\Final-Year-Project\\Diabetes-Prediction\\.venv\\Lib\\site-packages\\sklearn\\utils\\validation.py:2739: UserWarning: X does not have valid feature names, but StandardScaler was fitted with feature names\n",
      "  warnings.warn(\n"
     ]
    }
   ],
   "source": [
    "import joblib\n",
    "import numpy as np\n",
    "\n",
    "# Load model and scaler\n",
    "model = joblib.load(\"cancer_prediction_model.pkl\")\n",
    "scaler = joblib.load(\"scaler.pkl\")\n",
    "\n",
    "# Example new input: [Age, Gender, BMI, Smoking, GeneticRisk, PhysicalActivity, AlcoholIntake, CancerHistory]\n",
    "new_data = np.array([[60, 1, 28.5, 0, 1, 6.0, 3.0, 1]])\n",
    "new_data_scaled = scaler.transform(new_data)\n",
    "\n",
    "# Predict\n",
    "prediction = model.predict(new_data_scaled)\n",
    "print(\"Cancer Diagnosis Prediction:\", \"Positive\" if prediction[0] == 1 else \"Negative\")\n"
   ]
  },
  {
   "cell_type": "code",
   "execution_count": 2,
   "id": "43b936f3",
   "metadata": {},
   "outputs": [
    {
     "name": "stdout",
     "output_type": "stream",
     "text": [
      "Probability of Negative: 0.0109\n",
      "Probability of Positive: 0.9891\n"
     ]
    }
   ],
   "source": [
    "# Predict probability\n",
    "probability = model.predict_proba(new_data_scaled)\n",
    "\n",
    "print(f\"Probability of Negative: {probability[0][0]:.4f}\")\n",
    "print(f\"Probability of Positive: {probability[0][1]:.4f}\")\n"
   ]
  },
  {
   "cell_type": "code",
   "execution_count": null,
   "id": "6a3f77ed",
   "metadata": {},
   "outputs": [],
   "source": []
  },
  {
   "cell_type": "code",
   "execution_count": null,
   "id": "4debae51",
   "metadata": {},
   "outputs": [],
   "source": []
  }
 ],
 "metadata": {
  "kernelspec": {
   "display_name": ".venv",
   "language": "python",
   "name": "python3"
  },
  "language_info": {
   "codemirror_mode": {
    "name": "ipython",
    "version": 3
   },
   "file_extension": ".py",
   "mimetype": "text/x-python",
   "name": "python",
   "nbconvert_exporter": "python",
   "pygments_lexer": "ipython3",
   "version": "3.13.1"
  }
 },
 "nbformat": 4,
 "nbformat_minor": 5
}
