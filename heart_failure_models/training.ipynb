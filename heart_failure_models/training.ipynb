{
 "cells": [
  {
   "cell_type": "code",
   "execution_count": 18,
   "id": "7fd72937",
   "metadata": {},
   "outputs": [],
   "source": [
    "import pandas as pd\n",
    "import numpy as np\n",
    "from sklearn.model_selection import train_test_split\n",
    "from sklearn.preprocessing import StandardScaler\n",
    "from sklearn.linear_model import LogisticRegression\n",
    "from sklearn.metrics import accuracy_score, classification_report\n",
    "from sklearn.feature_selection import SelectKBest, chi2\n",
    "import joblib"
   ]
  },
  {
   "cell_type": "code",
   "execution_count": 19,
   "id": "474d7b51",
   "metadata": {},
   "outputs": [
    {
     "name": "stdout",
     "output_type": "stream",
     "text": [
      "Accuracy: 0.7833333333333333\n",
      "Classification Report:\n",
      "               precision    recall  f1-score   support\n",
      "\n",
      "           0       0.74      0.97      0.84        35\n",
      "           1       0.93      0.52      0.67        25\n",
      "\n",
      "    accuracy                           0.78        60\n",
      "   macro avg       0.83      0.75      0.75        60\n",
      "weighted avg       0.82      0.78      0.77        60\n",
      "\n"
     ]
    },
    {
     "data": {
      "text/plain": [
       "['heart_failure_feature_selector.pkl']"
      ]
     },
     "execution_count": 19,
     "metadata": {},
     "output_type": "execute_result"
    }
   ],
   "source": [
    "\n",
    "\n",
    "# Load dataset\n",
    "df = pd.read_csv(\"heart_failure_clinical_records_dataset.csv\")\n",
    "X = df.drop(\"DEATH_EVENT\", axis=1)\n",
    "y = df[\"DEATH_EVENT\"]\n",
    "\n",
    "# Step 1: Feature selection (before scaling)\n",
    "selector = SelectKBest(score_func=chi2, k=8)\n",
    "X_selected = selector.fit_transform(X, y)\n",
    "\n",
    "# Step 2: Scale selected features\n",
    "scaler = StandardScaler()\n",
    "X_scaled = scaler.fit_transform(X_selected)\n",
    "\n",
    "# Step 3: Train-test split\n",
    "X_train, X_test, y_train, y_test = train_test_split(X_scaled, y, test_size=0.2, random_state=42)\n",
    "\n",
    "# Step 4: Train model\n",
    "model = LogisticRegression(random_state=42)\n",
    "model.fit(X_train, y_train)\n",
    "\n",
    "# Evaluate\n",
    "y_pred = model.predict(X_test)\n",
    "print(\"Accuracy:\", accuracy_score(y_test, y_pred))\n",
    "print(\"Classification Report:\\n\", classification_report(y_test, y_pred))\n",
    "\n",
    "# Save all artifacts\n",
    "joblib.dump(model, \"heart_failure_log_model.pkl\")\n",
    "joblib.dump(scaler, \"heart_failure_scaler.pkl\")\n",
    "joblib.dump(selector, \"heart_failure_feature_selector.pkl\")\n"
   ]
  },
  {
   "cell_type": "code",
   "execution_count": null,
   "id": "5938363c",
   "metadata": {},
   "outputs": [],
   "source": []
  }
 ],
 "metadata": {
  "kernelspec": {
   "display_name": ".venv",
   "language": "python",
   "name": "python3"
  },
  "language_info": {
   "codemirror_mode": {
    "name": "ipython",
    "version": 3
   },
   "file_extension": ".py",
   "mimetype": "text/x-python",
   "name": "python",
   "nbconvert_exporter": "python",
   "pygments_lexer": "ipython3",
   "version": "3.13.1"
  }
 },
 "nbformat": 4,
 "nbformat_minor": 5
}
