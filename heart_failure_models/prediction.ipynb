{
 "cells": [
  {
   "cell_type": "code",
   "execution_count": 3,
   "id": "03252c1a",
   "metadata": {},
   "outputs": [
    {
     "name": "stdout",
     "output_type": "stream",
     "text": [
      "Prediction: At Risk (1)\n"
     ]
    },
    {
     "name": "stderr",
     "output_type": "stream",
     "text": [
      "n:\\Major Project Files\\Final-Year-Project\\Diabetes-Prediction\\.venv\\Lib\\site-packages\\sklearn\\utils\\validation.py:2739: UserWarning: X does not have valid feature names, but SelectKBest was fitted with feature names\n",
      "  warnings.warn(\n"
     ]
    }
   ],
   "source": [
    "import numpy as np\n",
    "import joblib\n",
    "\n",
    "# Load model and preprocessing\n",
    "model = joblib.load(\"heart_failure_log_model.pkl\")\n",
    "scaler = joblib.load(\"heart_failure_scaler.pkl\")\n",
    "selector = joblib.load(\"heart_failure_feature_selector.pkl\")\n",
    "\n",
    "# Input (raw, unscaled)\n",
    "sample_input = np.array([[75, 0, 130, 20, 1, 1, 263358.03, 1.9, 130, 1, 0, 4]])\n",
    "\n",
    "# Step 1: Feature selection first\n",
    "selected_input = selector.transform(sample_input)\n",
    "\n",
    "# Step 2: Then scale\n",
    "scaled_input = scaler.transform(selected_input)\n",
    "\n",
    "# Predict\n",
    "prediction = model.predict(scaled_input)\n",
    "print(\"Prediction:\", \"At Risk (1)\" if prediction[0] == 1 else \"Not at Risk (0)\")\n"
   ]
  },
  {
   "cell_type": "code",
   "execution_count": null,
   "id": "a17bef61",
   "metadata": {},
   "outputs": [],
   "source": []
  }
 ],
 "metadata": {
  "kernelspec": {
   "display_name": ".venv",
   "language": "python",
   "name": "python3"
  },
  "language_info": {
   "codemirror_mode": {
    "name": "ipython",
    "version": 3
   },
   "file_extension": ".py",
   "mimetype": "text/x-python",
   "name": "python",
   "nbconvert_exporter": "python",
   "pygments_lexer": "ipython3",
   "version": "3.13.1"
  }
 },
 "nbformat": 4,
 "nbformat_minor": 5
}
