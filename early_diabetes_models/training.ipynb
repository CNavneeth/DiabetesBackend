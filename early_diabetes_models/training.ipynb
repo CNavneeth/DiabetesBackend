{
 "cells": [
  {
   "cell_type": "code",
   "execution_count": 9,
   "id": "78e84e9c",
   "metadata": {},
   "outputs": [
    {
     "name": "stdout",
     "output_type": "stream",
     "text": [
      "Any NaN in X after processing? 0\n",
      "Accuracy: 0.9134615384615384\n",
      "Confusion Matrix:\n",
      " [[38  2]\n",
      " [ 7 57]]\n",
      "Classification Report:\n",
      "               precision    recall  f1-score   support\n",
      "\n",
      "           0       0.84      0.95      0.89        40\n",
      "           1       0.97      0.89      0.93        64\n",
      "\n",
      "    accuracy                           0.91       104\n",
      "   macro avg       0.91      0.92      0.91       104\n",
      "weighted avg       0.92      0.91      0.91       104\n",
      "\n"
     ]
    }
   ],
   "source": [
    "import pandas as pd\n",
    "from sklearn.model_selection import train_test_split\n",
    "from sklearn.preprocessing import StandardScaler\n",
    "from sklearn.linear_model import LogisticRegression\n",
    "from sklearn.metrics import classification_report, confusion_matrix, accuracy_score\n",
    "\n",
    "# Load dataset\n",
    "df = pd.read_csv('Dataset 2 _ Early-stage diabetes risk prediction dataset (ESDRPD).csv')\n",
    "\n",
    "# Ensure no missing target\n",
    "df = df.dropna(subset=['class'])\n",
    "\n",
    "# Clean categorical columns by replacing unexpected or missing with 'No'\n",
    "for col in df.columns:\n",
    "    if df[col].dtype == 'object':\n",
    "        df[col] = df[col].fillna('No')\n",
    "        df[col] = df[col].str.strip().replace('', 'No')  # Handle blank entries\n",
    "\n",
    "# Convert categorical to numeric\n",
    "X = df.drop('class', axis=1)\n",
    "X = X.apply(lambda col: col.map({'Yes': 1, 'No': 0}) if col.dtypes == 'object' else col)\n",
    "\n",
    "# After conversion, fill any remaining NaN (due to unexpected values not captured above)\n",
    "X = X.fillna(0)\n",
    "\n",
    "# Confirm no NaN remains\n",
    "print(\"Any NaN in X after processing?\", X.isnull().sum().sum())\n",
    "\n",
    "y = df['class']\n",
    "\n",
    "# Train-Test Split\n",
    "X_train, X_test, y_train, y_test = train_test_split(X, y, test_size=0.2, random_state=42, stratify=y)\n",
    "\n",
    "# Feature Scaling\n",
    "scaler = StandardScaler()\n",
    "X_train_scaled = scaler.fit_transform(X_train)\n",
    "X_test_scaled = scaler.transform(X_test)\n",
    "\n",
    "# Model Training\n",
    "model = LogisticRegression(max_iter=1000)\n",
    "model.fit(X_train_scaled, y_train)\n",
    "\n",
    "# Predictions and Evaluation\n",
    "y_pred = model.predict(X_test_scaled)\n",
    "\n",
    "print(\"Accuracy:\", accuracy_score(y_test, y_pred))\n",
    "print(\"Confusion Matrix:\\n\", confusion_matrix(y_test, y_pred))\n",
    "print(\"Classification Report:\\n\", classification_report(y_test, y_pred))\n"
   ]
  },
  {
   "cell_type": "code",
   "execution_count": 7,
   "id": "60cca91a",
   "metadata": {},
   "outputs": [
    {
     "name": "stdout",
     "output_type": "stream",
     "text": [
      "Index(['age', 'gender', 'polyuria', 'polydipsia', 'sudden weight loss',\n",
      "       'weakness', 'polyphagia', 'genital thrush', 'visual blurring',\n",
      "       'itching', 'irritability', 'delayed healing', 'partial paresis',\n",
      "       'muscle stiffness', 'alopecia', 'obesity', 'class'],\n",
      "      dtype='object')\n",
      "   age gender polyuria polydipsia sudden weight loss weakness polyphagia  \\\n",
      "0   40   Male       No        Yes                 No      Yes         No   \n",
      "1   58   Male       No         No                 No      Yes         No   \n",
      "2   41   Male      Yes         No                 No      Yes        Yes   \n",
      "3   45   Male       No         No                Yes      Yes        Yes   \n",
      "4   60   Male      Yes        Yes                Yes      Yes        Yes   \n",
      "\n",
      "  genital thrush visual blurring itching irritability delayed healing  \\\n",
      "0             No              No     Yes           No             Yes   \n",
      "1             No             Yes      No           No              No   \n",
      "2             No              No     Yes           No             Yes   \n",
      "3            Yes              No     Yes           No             Yes   \n",
      "4             No             Yes     Yes          Yes             Yes   \n",
      "\n",
      "  partial paresis muscle stiffness alopecia obesity  class  \n",
      "0              No              Yes      Yes     Yes      1  \n",
      "1             Yes               No      Yes      No      1  \n",
      "2              No              Yes      Yes      No      1  \n",
      "3              No               No       No      No      1  \n",
      "4             Yes              Yes      Yes     Yes      1  \n",
      "age                   0\n",
      "gender                0\n",
      "polyuria              0\n",
      "polydipsia            0\n",
      "sudden weight loss    0\n",
      "weakness              0\n",
      "polyphagia            0\n",
      "genital thrush        0\n",
      "visual blurring       0\n",
      "itching               0\n",
      "irritability          0\n",
      "delayed healing       0\n",
      "partial paresis       0\n",
      "muscle stiffness      0\n",
      "alopecia              0\n",
      "obesity               0\n",
      "class                 0\n",
      "dtype: int64\n",
      "Unique values in age: [40 58 41 45 60 55 57 66 67 70 44 38 35 61 54 43 62 39 48 32 42 52 53 37\n",
      " 49 63 30 50 46 36 51 59 65 25 47 28 68 56 31 85 90 72 69 79 34 16 33 64\n",
      " 27 29 26]\n",
      "Unique values in gender: ['Male' 'Female']\n",
      "Unique values in polyuria: ['No' 'Yes']\n",
      "Unique values in polydipsia: ['Yes' 'No']\n",
      "Unique values in sudden weight loss: ['No' 'Yes']\n",
      "Unique values in weakness: ['Yes' 'No']\n",
      "Unique values in polyphagia: ['No' 'Yes']\n",
      "Unique values in genital thrush: ['No' 'Yes']\n",
      "Unique values in visual blurring: ['No' 'Yes']\n",
      "Unique values in itching: ['Yes' 'No']\n",
      "Unique values in irritability: ['No' 'Yes']\n",
      "Unique values in delayed healing: ['Yes' 'No']\n",
      "Unique values in partial paresis: ['No' 'Yes']\n",
      "Unique values in muscle stiffness: ['Yes' 'No']\n",
      "Unique values in alopecia: ['Yes' 'No']\n",
      "Unique values in obesity: ['Yes' 'No']\n",
      "Unique values in class: [1 0]\n"
     ]
    }
   ],
   "source": [
    "import pandas as pd\n",
    "\n",
    "# Load the dataset\n",
    "df = pd.read_csv('Dataset 2 _ Early-stage diabetes risk prediction dataset (ESDRPD).csv')\n",
    "\n",
    "# Check column names carefully\n",
    "print(df.columns)\n",
    "\n",
    "# Display first few records to confirm target column name\n",
    "print(df.head())\n",
    "\n",
    "# Check for nulls in all columns\n",
    "print(df.isnull().sum())\n",
    "\n",
    "# Check unique values in columns to find target column\n",
    "for col in df.columns:\n",
    "    print(f\"Unique values in {col}: {df[col].unique()}\")\n"
   ]
  },
  {
   "cell_type": "code",
   "execution_count": 3,
   "id": "e7977a5b",
   "metadata": {},
   "outputs": [
    {
     "name": "stdout",
     "output_type": "stream",
     "text": [
      "520\n"
     ]
    }
   ],
   "source": [
    "print(df['class'].isnull().sum())\n"
   ]
  },
  {
   "cell_type": "code",
   "execution_count": 11,
   "id": "7708b71c",
   "metadata": {},
   "outputs": [
    {
     "data": {
      "text/plain": [
       "['scaler.pkl']"
      ]
     },
     "execution_count": 11,
     "metadata": {},
     "output_type": "execute_result"
    }
   ],
   "source": [
    "import joblib\n",
    "\n",
    "# Save the trained model\n",
    "joblib.dump(model, 'diabetes_model.pkl')\n",
    "\n",
    "# Save the scaler\n",
    "joblib.dump(scaler, 'scaler.pkl')\n",
    "\n",
    "# If you used a selector (example: SelectKBest, RFE, etc.)\n",
    "# joblib.dump(selector, 'selector.pkl')\n"
   ]
  },
  {
   "cell_type": "code",
   "execution_count": null,
   "id": "eb1ec382",
   "metadata": {},
   "outputs": [],
   "source": []
  }
 ],
 "metadata": {
  "kernelspec": {
   "display_name": ".venv",
   "language": "python",
   "name": "python3"
  },
  "language_info": {
   "codemirror_mode": {
    "name": "ipython",
    "version": 3
   },
   "file_extension": ".py",
   "mimetype": "text/x-python",
   "name": "python",
   "nbconvert_exporter": "python",
   "pygments_lexer": "ipython3",
   "version": "3.13.1"
  }
 },
 "nbformat": 4,
 "nbformat_minor": 5
}
