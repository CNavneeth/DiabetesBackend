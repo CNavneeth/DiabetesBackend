{
 "cells": [
  {
   "cell_type": "code",
   "execution_count": 1,
   "id": "c1c4481f",
   "metadata": {},
   "outputs": [
    {
     "name": "stdout",
     "output_type": "stream",
     "text": [
      "Predicted Class (1=Diabetic, 0=Non-Diabetic): 1\n",
      "Prediction Probability: [9.76474327e-04 9.99023526e-01]\n"
     ]
    }
   ],
   "source": [
    "import pandas as pd\n",
    "import joblib\n",
    "\n",
    "# Load the saved model, scaler, and selector (if used)\n",
    "model = joblib.load('diabetes_model.pkl')\n",
    "scaler = joblib.load('scaler.pkl')\n",
    "\n",
    "# If you used a selector, load it too\n",
    "# selector = joblib.load('selector.pkl')\n",
    "\n",
    "# Example new patient data (as DataFrame)\n",
    "# Replace with your own values matching the training columns order\n",
    "new_data = pd.DataFrame({\n",
    "    'age': [50],\n",
    "    'gender': ['Male'],\n",
    "    'polyuria': ['Yes'],\n",
    "    'polydipsia': ['Yes'],\n",
    "    'sudden weight loss': ['No'],\n",
    "    'weakness': ['Yes'],\n",
    "    'polyphagia': ['No'],\n",
    "    'genital thrush': ['No'],\n",
    "    'visual blurring': ['Yes'],\n",
    "    'itching': ['No'],\n",
    "    'irritability': ['Yes'],\n",
    "    'delayed healing': ['No'],\n",
    "    'partial paresis': ['Yes'],\n",
    "    'muscle stiffness': ['No'],\n",
    "    'alopecia': ['No'],\n",
    "    'obesity': ['Yes']\n",
    "})\n",
    "\n",
    "# Preprocess the new data\n",
    "# Ensure all categorical columns are handled similarly to training\n",
    "for col in ['gender', 'polyuria', 'polydipsia', 'sudden weight loss', 'weakness',\n",
    "            'polyphagia', 'genital thrush', 'visual blurring', 'itching',\n",
    "            'irritability', 'delayed healing', 'partial paresis',\n",
    "            'muscle stiffness', 'alopecia', 'obesity']:\n",
    "    new_data[col] = new_data[col].map({'Yes': 1, 'No': 0, 'Male': 1, 'Female': 0})\n",
    "\n",
    "# Feature scaling\n",
    "scaled_data = scaler.transform(new_data)\n",
    "\n",
    "# If selector was used during training, apply it here too\n",
    "# selected_data = selector.transform(scaled_data)\n",
    "\n",
    "# Prediction (using scaled_data if no selector, or selected_data if selector was used)\n",
    "prediction = model.predict(scaled_data)\n",
    "\n",
    "# Prediction probability (optional)\n",
    "probability = model.predict_proba(scaled_data)\n",
    "\n",
    "print(f\"Predicted Class (1=Diabetic, 0=Non-Diabetic): {prediction[0]}\")\n",
    "print(f\"Prediction Probability: {probability[0]}\")\n"
   ]
  },
  {
   "cell_type": "code",
   "execution_count": null,
   "id": "e1b2c807",
   "metadata": {},
   "outputs": [],
   "source": []
  }
 ],
 "metadata": {
  "kernelspec": {
   "display_name": ".venv",
   "language": "python",
   "name": "python3"
  },
  "language_info": {
   "codemirror_mode": {
    "name": "ipython",
    "version": 3
   },
   "file_extension": ".py",
   "mimetype": "text/x-python",
   "name": "python",
   "nbconvert_exporter": "python",
   "pygments_lexer": "ipython3",
   "version": "3.13.1"
  }
 },
 "nbformat": 4,
 "nbformat_minor": 5
}
