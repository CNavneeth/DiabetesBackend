{
 "cells": [
  {
   "cell_type": "code",
   "execution_count": null,
   "id": "cdbae4dd",
   "metadata": {},
   "outputs": [
    {
     "name": "stdout",
     "output_type": "stream",
     "text": [
      "Prediction: Not Diabetic\n",
      "Probability: [0.79584851 0.20415149]\n"
     ]
    }
   ],
   "source": [
    "import joblib\n",
    "import pandas as pd\n",
    "\n",
    "model = joblib.load(\"diabetes_model.pkl\")\n",
    "scaler = joblib.load(\"scaler.pkl\")\n",
    "selector = joblib.load(\"selector.pkl\")\n",
    "\n",
    "sample = {\n",
    "    'age': 50,\n",
    "    'gender': 'female',\n",
    "    'bmi': 27.3,\n",
    "    'hypertension': 1,\n",
    "    'heart_disease': 0,\n",
    "    'smoking_history': 'never',\n",
    "    'HbA1c_level': 6.4,\n",
    "    'blood_glucose_level': 160\n",
    "}\n",
    "\n",
    "input_df = pd.DataFrame([sample])\n",
    "\n",
    "input_selected = selector.transform(input_df)\n",
    "\n",
    "input_scaled = scaler.transform(input_selected)\n",
    "\n",
    "pred = model.predict(input_scaled)\n",
    "proba = model.predict_proba(input_scaled)\n",
    "\n",
    "print(\"Prediction:\", \"Diabetic\" if pred[0] == 1 else \"Not Diabetic\")\n",
    "print(\"Probability:\", proba[0])\n"
   ]
  },
  {
   "cell_type": "code",
   "execution_count": null,
   "id": "ad0f8412",
   "metadata": {},
   "outputs": [],
   "source": []
  }
 ],
 "metadata": {
  "kernelspec": {
   "display_name": ".venv",
   "language": "python",
   "name": "python3"
  },
  "language_info": {
   "codemirror_mode": {
    "name": "ipython",
    "version": 3
   },
   "file_extension": ".py",
   "mimetype": "text/x-python",
   "name": "python",
   "nbconvert_exporter": "python",
   "pygments_lexer": "ipython3",
   "version": "3.13.1"
  }
 },
 "nbformat": 4,
 "nbformat_minor": 5
}
